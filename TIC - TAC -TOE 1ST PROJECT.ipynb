{
 "cells": [
  {
   "cell_type": "markdown",
   "metadata": {},
   "source": [
    "### First we are going to divide the project into small chunks \n",
    "#### what we need for the game -\n",
    "####  board \n",
    "####  display that board \n",
    "### Functions we need-\n",
    "####  play game-\n",
    "####         handle turn \n",
    "####  check win-\n",
    "####         check rows\n",
    "####         check columns \n",
    "####         check diagonals\n",
    "####  chcek tie \n",
    "####  flip player"
   ]
  },
  {
   "cell_type": "markdown",
   "metadata": {},
   "source": [
    "###  #Here I have make the board for the game by using list"
   ]
  },
  {
   "cell_type": "code",
   "execution_count": 1,
   "metadata": {},
   "outputs": [],
   "source": [
    "#Game board\n",
    "board = [\"-\",\"-\",\"-\",\n",
    "         \"-\",\"-\",\"-\",\n",
    "         \"-\",\"-\",\"-\",]\n",
    "\n",
    "#--------global varibale-----\n",
    "#if game is still going\n",
    "game_is_still_going = True\n",
    "\n",
    "#who won? or tie?\n",
    "winner = None\n",
    "\n",
    "\n",
    "#whos turn is it\n",
    "current_player= \"X\"\n",
    "\n",
    "\n",
    "#display board\n",
    "def display_board():\n",
    "    print(board[0] + \" | \" + board[1] + \" | \" + board[2])\n",
    "    print(board[3] + \" | \" + board[4] + \" | \" + board[5])\n",
    "    print(board[6] + \" | \" + board[7] + \" | \" + board[8])"
   ]
  },
  {
   "cell_type": "markdown",
   "metadata": {},
   "source": [
    "### #Now i have make the user define function to start the game \n",
    "###   and inside the function we had called the board to display"
   ]
  },
  {
   "cell_type": "code",
   "execution_count": 2,
   "metadata": {},
   "outputs": [],
   "source": [
    "#play the game\n",
    "def play_game():\n",
    "    \n",
    "    \n",
    "    \n",
    "    #display the initial board\n",
    "    display_board()\n",
    "    \n",
    "    #while the game is still going\n",
    "    while game_is_still_going:\n",
    "        \n",
    "        \n",
    "        #handle a single turn of the player\n",
    "        handle_turn(current_player)\n",
    "        \n",
    "        #check if the game has ended\n",
    "        check_if_game_over()\n",
    "        \n",
    "        #flip to the other player\n",
    "        flip_player()\n",
    "        \n",
    "        \n",
    "    #the game has ended\n",
    "    if winner == \"X\" or winner == \"O\":\n",
    "        print(winner + \" won \")\n",
    "    elif winner == None:\n",
    "        print(\" tie \")\n",
    "    \n",
    "    "
   ]
  },
  {
   "cell_type": "code",
   "execution_count": 3,
   "metadata": {},
   "outputs": [],
   "source": [
    "#handle a single turn for an arbitary player\n",
    "def handle_turn(player):\n",
    "    \n",
    "    print(player + \"'s turn.\")\n",
    "    \n",
    "    position = input(\"choose a position from 1-9: \")\n",
    "    \n",
    "    valid = False\n",
    "    while not valid:\n",
    "\n",
    "        while position in [\"1\",\"2\",\"3\",\"4\",\"5\",\"6\",\"7\",\"8\",\"9\"]:\n",
    "            position = input(\"invalid input. choose a position from 1-9: \")\n",
    "            \n",
    "        position = int(position) - 1\n",
    "\n",
    "        if board[position] == \"_\":\n",
    "            valid = True\n",
    "        else:\n",
    "            print(\"You can't go there. go again\")\n",
    "    \n",
    "    \n",
    "    board[position]= player\n",
    "\n",
    "    display_board()\n"
   ]
  },
  {
   "cell_type": "code",
   "execution_count": 4,
   "metadata": {},
   "outputs": [],
   "source": [
    "def check_if_game_over():\n",
    "    check_for_winner()\n",
    "    check_if_tie()\n",
    "    \n",
    "def check_for_winner():\n",
    "    #set up global variables\n",
    "    global winner\n",
    "\n",
    "    #check rows\n",
    "    row_winner = check_rows()\n",
    "    #check columns\n",
    "    column_winner = check_columns()\n",
    "    #check diagonals\n",
    "    diagonal_winner = check_diagonals()\n",
    "    if row_winner:\n",
    "        winner=row_winner\n",
    "    elif column_winner:\n",
    "        winner=column_winner\n",
    "    elif diagonal_winner:\n",
    "        winner=diagonal_winner\n",
    "    else:\n",
    "        winner = None\n",
    "    return\n",
    "    "
   ]
  },
  {
   "cell_type": "code",
   "execution_count": 5,
   "metadata": {},
   "outputs": [],
   "source": [
    "def check_rows():\n",
    "    #set up global variables\n",
    "    global game_is_still_going\n",
    "    #check if any of the row have same value and is not empty\n",
    "    row_1 = board[0] == board[1] == board[2] != \"_\"\n",
    "    row_2 = board[3] == board[4] == board[5] != \"_\"\n",
    "    row_3 = board[6] == board[7] == board[8] != \"_\"\n",
    "    #if any row does have a match, flag that there is a win\n",
    "    if row_1 or row_2 or row_3:\n",
    "        game_still_going = False\n",
    "    #return the winner(X OR O)\n",
    "    if row_1:\n",
    "        return board[0]\n",
    "    elif row_2:\n",
    "        return board[3]\n",
    "    elif row_3:\n",
    "        return board[6]\n",
    "    return\n"
   ]
  },
  {
   "cell_type": "code",
   "execution_count": 6,
   "metadata": {},
   "outputs": [],
   "source": [
    "def check_columns():\n",
    "    # set up global variables\n",
    "    global game_is_still_going\n",
    "    # check if any of the column have same value and is not empty\n",
    "    column_1 = board[0] == board[3] == board[6] != \"_\"\n",
    "    column_2 = board[1] == board[4] == board[7] != \"_\"\n",
    "    column_3 = board[2] == board[5] == board[8] != \"_\"\n",
    "    # if any column does have a match, flag that there was a win\n",
    "    if column_1 or column_2 or column_3:\n",
    "        game_still_going = False\n",
    "    # return the winner(X OR O)\n",
    "    if column_1:\n",
    "        return board[0]\n",
    "    elif column_2:\n",
    "        return board[1]\n",
    "    elif column_3:\n",
    "        return board[2]\n",
    "    return"
   ]
  },
  {
   "cell_type": "code",
   "execution_count": 7,
   "metadata": {},
   "outputs": [],
   "source": [
    "def check_diagonals():\n",
    "    # set up global variables\n",
    "    global game_is_still_going\n",
    "    # check if any of the diagonal have same value and is not empty\n",
    "    diagonal_1 = board[0] == board[4] == board[8] != \"_\"\n",
    "    diagonal_2 = board[6] == board[4] == board[2] != \"_\"\n",
    "\n",
    "    # if any diagonal does have a match, flag that there was a win\n",
    "    if diagonal_1 or diagonal_2:\n",
    "        game_still_going = False\n",
    "    # return the winner(X OR O)\n",
    "    if diagonal_1:\n",
    "        return board[0]\n",
    "    elif diagonal_2:\n",
    "        return board[6]\n",
    "    return\n"
   ]
  },
  {
   "cell_type": "code",
   "execution_count": null,
   "metadata": {},
   "outputs": [
    {
     "name": "stdout",
     "output_type": "stream",
     "text": [
      "- | - | -\n",
      "- | - | -\n",
      "- | - | -\n",
      "X's turn.\n",
      "choose a position from 1-9: 2\n"
     ]
    }
   ],
   "source": [
    "def check_if_tie():\n",
    "    global game_is_still_going\n",
    "    if \"_\" not in board:\n",
    "        game_is_still_going = False\n",
    "    return\n",
    "\n",
    "def flip_player():\n",
    "    #global variables we need\n",
    "    global current_player\n",
    "    #if the current player was X , then change it to O\n",
    "    if current_player == \"X\":\n",
    "        current_player = \"O\"\n",
    "        #if the current player was O, then change it to X\n",
    "    elif current_player == \"O\":\n",
    "        current_player = \"X\"\n",
    "    return\n",
    "\n",
    "play_game()"
   ]
  },
  {
   "cell_type": "code",
   "execution_count": null,
   "metadata": {},
   "outputs": [],
   "source": []
  }
 ],
 "metadata": {
  "kernelspec": {
   "display_name": "Python 3",
   "language": "python",
   "name": "python3"
  },
  "language_info": {
   "codemirror_mode": {
    "name": "ipython",
    "version": 3
   },
   "file_extension": ".py",
   "mimetype": "text/x-python",
   "name": "python",
   "nbconvert_exporter": "python",
   "pygments_lexer": "ipython3",
   "version": "3.7.4"
  }
 },
 "nbformat": 4,
 "nbformat_minor": 2
}
